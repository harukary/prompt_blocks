{
 "cells": [
  {
   "cell_type": "code",
   "execution_count": 6,
   "metadata": {},
   "outputs": [
    {
     "data": {
      "text/plain": [
       "[{'role': 'system', 'content': 'これはuserとassistantの会話です。'},\n",
       " {'role': 'assistant', 'content': 'こんにちは。元気ですか？'}]"
      ]
     },
     "metadata": {},
     "output_type": "display_data"
    },
    {
     "data": {
      "text/plain": [
       "[{'role': 'user', 'content': 'こんにちは。元気です。'},\n",
       " {'role': 'assistant', 'content': '何かお手伝いできますか？'},\n",
       " {'role': 'user', 'content': 'いいえ、結構です。'}]"
      ]
     },
     "metadata": {},
     "output_type": "display_data"
    }
   ],
   "source": [
    "k = 3\n",
    "messages = [\n",
    "    {'role': 'system', 'content': 'これはuserとassistantの会話です。'},\n",
    "    {'role': 'assistant', 'content': 'こんにちは。元気ですか？'},\n",
    "    {'role': 'user', 'content': 'こんにちは。元気です。'},\n",
    "    {'role': 'assistant', 'content': '何かお手伝いできますか？'},\n",
    "    {'role': 'user', 'content': 'いいえ、結構です。'},\n",
    "]\n",
    "display(messages[:-k])\n",
    "display(messages[-k:])"
   ]
  },
  {
   "cell_type": "code",
   "execution_count": 1,
   "metadata": {},
   "outputs": [
    {
     "data": {
      "text/plain": [
       "{'name': '9224be243bef',\n",
       " 'cluster_name': 'docker-cluster',\n",
       " 'cluster_uuid': 'Unu2eO47Tzism43V9ZilJQ',\n",
       " 'version': {'distribution': 'opensearch',\n",
       "  'number': '2.10.0',\n",
       "  'build_type': 'tar',\n",
       "  'build_hash': 'eee49cb340edc6c4d489bcd9324dda571fc8dc03',\n",
       "  'build_date': '2023-09-20T23:54:29.889267151Z',\n",
       "  'build_snapshot': False,\n",
       "  'lucene_version': '9.7.0',\n",
       "  'minimum_wire_compatibility_version': '7.10.0',\n",
       "  'minimum_index_compatibility_version': '7.0.0'},\n",
       " 'tagline': 'The OpenSearch Project: https://opensearch.org/'}"
      ]
     },
     "execution_count": 1,
     "metadata": {},
     "output_type": "execute_result"
    }
   ],
   "source": [
    "from prompt_blocks.utils.opensearch_client import OpenSearchClient\n",
    "\n",
    "os = OpenSearchClient('localhost',9200,'recipes')\n",
    "os.info()"
   ]
  }
 ],
 "metadata": {
  "kernelspec": {
   "display_name": ".venv",
   "language": "python",
   "name": "python3"
  },
  "language_info": {
   "codemirror_mode": {
    "name": "ipython",
    "version": 3
   },
   "file_extension": ".py",
   "mimetype": "text/x-python",
   "name": "python",
   "nbconvert_exporter": "python",
   "pygments_lexer": "ipython3",
   "version": "3.10.5"
  }
 },
 "nbformat": 4,
 "nbformat_minor": 2
}
