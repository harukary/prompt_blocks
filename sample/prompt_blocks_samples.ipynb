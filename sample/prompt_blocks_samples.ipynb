{
 "cells": [
  {
   "cell_type": "markdown",
   "metadata": {},
   "source": [
    "### TextBlock"
   ]
  },
  {
   "cell_type": "code",
   "execution_count": 1,
   "metadata": {},
   "outputs": [
    {
     "name": "stdout",
     "output_type": "stream",
     "text": [
      "## Instruction\n",
      "こんにちは。\n"
     ]
    }
   ],
   "source": [
    "from prompt_blocks.blocks import TextBlock\n",
    "b = TextBlock('Instruction', prompt='こんにちは。', debug=True)\n",
    "_ = b.generate()"
   ]
  },
  {
   "cell_type": "markdown",
   "metadata": {},
   "source": [
    "### TemplateBlock"
   ]
  },
  {
   "cell_type": "code",
   "execution_count": 2,
   "metadata": {},
   "outputs": [
    {
     "name": "stdout",
     "output_type": "stream",
     "text": [
      "## Instruction\n",
      "こんにちは、山田さん。\n"
     ]
    }
   ],
   "source": [
    "from prompt_blocks.blocks import TemplateBlock\n",
    "b = TemplateBlock('Instruction', prompt='こんにちは、{name}さん。', debug=True)\n",
    "_ = b.generate(name='山田')"
   ]
  },
  {
   "cell_type": "markdown",
   "metadata": {},
   "source": [
    "### LLMBlock"
   ]
  },
  {
   "cell_type": "code",
   "execution_count": 3,
   "metadata": {},
   "outputs": [
    {
     "name": "stdout",
     "output_type": "stream",
     "text": [
      "system \t\t ------------------------------\n",
      "## Text\n",
      "じゃがいもは、世界中で広く栽培されている野菜の一つです。主に地下茎部分である塊茎を食用とします。じゃがいもは非常に栄養価が高く、炭水化物、ビタミンC、ビタミンB6、カリウムなどを豊富に含んでい以下に、じゃがいもに関するいくつかの情報を紹介し- 起源と歴史: じゃがいもは南アメリカ原産で、紀元前8000年頃から栽培されていました。15世紀にヨーロッパにもたらされ、その後世界中に広まりま- 品種: じゃがいもには数百以上の品種があります。品種によって形状、色、食感、味わいなどが異なります。一般的な品種には、キタアカリ、メークイン、ジャガリッシュ、ロシアンブルーなどがあり- 調理法: じゃがいもは非常に多様な調理法で利用されます。主な調理方法としては、ゆでる、焼く、揚げる、蒸す、煮るなどがあります。フライドポテトやポテトサラダ、マッシュポテト、ポテトチップスなど、様々な料理に利用され- 栄養価: じゃがいもは炭水化物が豊富で、特にデンプンが多く含まれています。また、ビタミンCやビタミンB6、カリウム、食物繊維も含まれています。ただし、注意点として、じゃがいもはカロリーが高いため、食べ過ぎには注意が必要- 保存方法: じゃがいもは涼しい場所で保存するのが最適です。直射日光や高温の場所を避け、通気性のある袋や容器に入れて保存しましょう。また、他の野菜と一緒に保管すると、互いに傷みやすくなるので注意が必要以上が、じゃがいもについての基本的な情報です。じゃがいもは料理の幅広いバリエーションで楽しむことができる美味しい野菜ですので、ぜひ試してみてください。\n",
      "\n",
      "system \t\t ------------------------------\n",
      "[Text]を100字で要約してください。\n",
      "\n",
      "assistant \t ------------------------------\n",
      "input: 766 output: None\n",
      "assistant \t ------------------------------ tokens: 857\n",
      "じゃがいもは世界中で栽培される野菜で、栄養価が高く、多様な調理法で利用されます。保存する際は涼しい場所で保管し、他の野菜と一緒に保管しないように注意が必要です。 \n",
      "\n",
      "## Summary\n",
      "\n",
      "じゃがいもは世界中で栽培される野菜で、栄養価が高く、多様な調理法で利用されます。保存する際は涼しい場所で保管し、他の野菜と一緒に保管しないように注意が必要です。\n"
     ]
    }
   ],
   "source": [
    "from prompt_blocks.blocks import LLMBlock, TextBlock\n",
    "text = \"じゃがいもは、世界中で広く栽培されている野菜の一つです。主に地下茎部分である塊茎を食用とします。じゃがいもは非常に栄養価が高く、炭水化物、ビタミンC、ビタミンB6、カリウムなどを豊富に含んでい以下に、じゃがいもに関するいくつかの情報を紹介し- 起源と歴史: じゃがいもは南アメリカ原産で、紀元前8000年頃から栽培されていました。15世紀にヨーロッパにもたらされ、その後世界中に広まりま- 品種: じゃがいもには数百以上の品種があります。品種によって形状、色、食感、味わいなどが異なります。一般的な品種には、キタアカリ、メークイン、ジャガリッシュ、ロシアンブルーなどがあり- 調理法: じゃがいもは非常に多様な調理法で利用されます。主な調理方法としては、ゆでる、焼く、揚げる、蒸す、煮るなどがあります。フライドポテトやポテトサラダ、マッシュポテト、ポテトチップスなど、様々な料理に利用され- 栄養価: じゃがいもは炭水化物が豊富で、特にデンプンが多く含まれています。また、ビタミンCやビタミンB6、カリウム、食物繊維も含まれています。ただし、注意点として、じゃがいもはカロリーが高いため、食べ過ぎには注意が必要- 保存方法: じゃがいもは涼しい場所で保存するのが最適です。直射日光や高温の場所を避け、通気性のある袋や容器に入れて保存しましょう。また、他の野菜と一緒に保管すると、互いに傷みやすくなるので注意が必要以上が、じゃがいもについての基本的な情報です。じゃがいもは料理の幅広いバリエーションで楽しむことができる美味しい野菜ですので、ぜひ試してみてください。\"\n",
    "text_block = TextBlock('Text', text)\n",
    "b = LLMBlock('Summary', prompt='', debug=True)\n",
    "_ = b.generate(prompt='[Text]を100字で要約してください。', source_text=text_block.generate()[0])"
   ]
  },
  {
   "cell_type": "markdown",
   "metadata": {},
   "source": [
    "### HistoryBlock"
   ]
  },
  {
   "cell_type": "code",
   "execution_count": 2,
   "metadata": {},
   "outputs": [
    {
     "name": "stdout",
     "output_type": "stream",
     "text": [
      "## ConversationHistory\n",
      "以下はAIとHumanの会話です。\n",
      "\n",
      "AI: こんにちは。元気ですか？\n",
      "Human: こんにちは。\n",
      "AI: \n"
     ]
    }
   ],
   "source": [
    "from prompt_blocks.blocks import HistoryBlock\n",
    "messages = [\n",
    "    {'message': {'role': 'system', 'content': 'これはuserとassistantの会話です。'}},\n",
    "    {'message': {'role': 'assistant', 'content': 'こんにちは。元気ですか？'}},\n",
    "    {'message': {'role': 'user', 'content': 'こんにちは。'}},\n",
    "]\n",
    "p = HistoryBlock('ConversationHistory', prompt='以下はAIとHumanの会話です。', debug=True)\n",
    "_ = await p.generate(\n",
    "    history=messages,\n",
    "    mapping={'system': 'system', 'user': 'Human', 'assistant': 'AI'},\n",
    "    next_speaker='assistant'\n",
    ")"
   ]
  },
  {
   "cell_type": "markdown",
   "metadata": {},
   "source": [
    "### HistoryWithSummaryBlock"
   ]
  },
  {
   "cell_type": "code",
   "execution_count": 1,
   "metadata": {},
   "outputs": [
    {
     "name": "stdout",
     "output_type": "stream",
     "text": [
      "## ConversationHistory\n",
      "以下はAIとHumanの会話です。\n",
      "\n",
      "Summary: AIは挨拶し、人間は元気であると返答する。\n",
      "AI: 何かお手伝いできますか？\n",
      "Human: いいえ、結構です。\n",
      "AI: \n"
     ]
    }
   ],
   "source": [
    "from prompt_blocks.blocks import HistoryWithSummaryBlock\n",
    "messages = [\n",
    "    {'message': {'role': 'system', 'content': 'これはuserとassistantの会話です。'}},\n",
    "    {'message': {'role': 'assistant', 'content': 'こんにちは。元気ですか？'}},\n",
    "    {'message': {'role': 'user', 'content': 'こんにちは。元気です。'}},\n",
    "    {'message': {'role': 'assistant', 'content': '何かお手伝いできますか？'}},\n",
    "    {'message': {'role': 'user', 'content': 'いいえ、結構です。'}},\n",
    "]\n",
    "p = HistoryWithSummaryBlock('ConversationHistory', prompt='以下はAIとHumanの会話です。', debug=True)\n",
    "_ = await p.generate(\n",
    "    history=messages,\n",
    "    prompt='以下の会話を要約してください。\\nSummary: ',\n",
    "    mapping={'system': 'system', 'user': 'Human', 'assistant': 'AI'},\n",
    "    next_speaker='assistant',\n",
    "    num_messages=2,\n",
    ")"
   ]
  },
  {
   "cell_type": "markdown",
   "metadata": {},
   "source": [
    "### SearchBlock"
   ]
  },
  {
   "cell_type": "code",
   "execution_count": 1,
   "metadata": {},
   "outputs": [
    {
     "name": "stdout",
     "output_type": "stream",
     "text": [
      "## Recipes\n",
      "\n",
      "[\n",
      "  {\n",
      "    \"id\": 11352,\n",
      "    \"recipe\": {\n",
      "      \"name\": \"えびとトマトの<br/>サラダパスタ\",\n",
      "      \"appliance\": \"オーブンレンジ\",\n",
      "      \"cooking_tools\": [],\n",
      "      \"ingredients\": [\n",
      "        {\n",
      "          \"name\": \"スパゲティ（1.4mm）(半分に折る)\",\n",
      "          \"amount\": \"160g\"\n",
      "        },\n",
      "        {\n",
      "          \"name\": \"むきえび\",\n",
      "          \"amount\": \"150g\"\n",
      "        },\n",
      "        {\n",
      "          \"name\": \"水菜(5cm幅に切る)\",\n",
      "          \"amount\": \"50g\"\n",
      "        },\n",
      "        {\n",
      "          \"name\": \"A\",\n",
      "          \"amount\": \"\"\n",
      "        },\n",
      "        {\n",
      "          \"name\": \"B\",\n",
      "          \"amount\": \"\"\n",
      "        }\n",
      "      ],\n",
      "      \"instructions\": [\n",
      "        {\n",
      "          \"description\": \"→ワンボウルパスタ・作りかたのコツ1.直径約25cmの耐熱ガラス製ボウルにAを合わせ、方向をそろえてスパゲティを入れる。はしでスパゲティを左右に揺らして水になじませる。さらに水菜を広げて入れ、その上にむきえびをのせてラップをふんわりゆったりかける。\"\n",
      "        },\n",
      "        {\n",
      "          \"description\": \"2.庫内中央に置く。(材料を入れたらすぐに加熱する)\"\n",
      "        },\n",
      "        {\n",
      "          \"description\": \"3.加熱後、すぐに底から全体を混ぜ合わせてほぐし、具とスパゲティを冷水にとる。しっかり水けを切り、Bを加えてさらに混ぜ合わせる。\"\n",
      "        }\n",
      "      ]\n",
      "    }\n",
      "  }\n",
      "]\n",
      "\n"
     ]
    },
    {
     "ename": "AttributeError",
     "evalue": "'SearchBlock' object has no attribute 'response'",
     "output_type": "error",
     "traceback": [
      "\u001b[0;31m---------------------------------------------------------------------------\u001b[0m",
      "\u001b[0;31mAttributeError\u001b[0m                            Traceback (most recent call last)",
      "\u001b[1;32m/home/y3nyx/kitchen_ws/bistro_advisor_service/sample/block_samples.ipynb Cell 10\u001b[0m line \u001b[0;36m2\n\u001b[1;32m     <a href='vscode-notebook-cell://ssh-remote%2Bubuntu/home/y3nyx/kitchen_ws/bistro_advisor_service/sample/block_samples.ipynb#X12sdnNjb2RlLXJlbW90ZQ%3D%3D?line=17'>18</a>\u001b[0m text_block \u001b[39m=\u001b[39m TextBlock(\u001b[39m'\u001b[39m\u001b[39mUserInput\u001b[39m\u001b[39m'\u001b[39m,text)\n\u001b[1;32m     <a href='vscode-notebook-cell://ssh-remote%2Bubuntu/home/y3nyx/kitchen_ws/bistro_advisor_service/sample/block_samples.ipynb#X12sdnNjb2RlLXJlbW90ZQ%3D%3D?line=18'>19</a>\u001b[0m _ \u001b[39m=\u001b[39m b\u001b[39m.\u001b[39mgenerate(\n\u001b[1;32m     <a href='vscode-notebook-cell://ssh-remote%2Bubuntu/home/y3nyx/kitchen_ws/bistro_advisor_service/sample/block_samples.ipynb#X12sdnNjb2RlLXJlbW90ZQ%3D%3D?line=19'>20</a>\u001b[0m     prompt\u001b[39m=\u001b[39m\u001b[39m\"\u001b[39m\u001b[39m[UserInput]からUserが欲しいレシピの条件を教えてください。条件のみを回答してください。\u001b[39m\u001b[39m\\n\u001b[39;00m\u001b[39m条件:\u001b[39m\u001b[39m\\n\u001b[39;00m\u001b[39m\"\u001b[39m,\n\u001b[1;32m     <a href='vscode-notebook-cell://ssh-remote%2Bubuntu/home/y3nyx/kitchen_ws/bistro_advisor_service/sample/block_samples.ipynb#X12sdnNjb2RlLXJlbW90ZQ%3D%3D?line=20'>21</a>\u001b[0m     query_source\u001b[39m=\u001b[39mtext_block\u001b[39m.\u001b[39mgenerate()[\u001b[39m0\u001b[39m],\n\u001b[1;32m     <a href='vscode-notebook-cell://ssh-remote%2Bubuntu/home/y3nyx/kitchen_ws/bistro_advisor_service/sample/block_samples.ipynb#X12sdnNjb2RlLXJlbW90ZQ%3D%3D?line=21'>22</a>\u001b[0m )\n\u001b[0;32m---> <a href='vscode-notebook-cell://ssh-remote%2Bubuntu/home/y3nyx/kitchen_ws/bistro_advisor_service/sample/block_samples.ipynb#X12sdnNjb2RlLXJlbW90ZQ%3D%3D?line=22'>23</a>\u001b[0m \u001b[39mprint\u001b[39m(\u001b[39m'\u001b[39m\u001b[39mquery:\u001b[39m\u001b[39m'\u001b[39m, b\u001b[39m.\u001b[39;49mresponse, sep\u001b[39m=\u001b[39m\u001b[39m'\u001b[39m\u001b[39m\\n\u001b[39;00m\u001b[39m'\u001b[39m)\n",
      "\u001b[0;31mAttributeError\u001b[0m: 'SearchBlock' object has no attribute 'response'"
     ]
    }
   ],
   "source": [
    "from prompt_blocks.blocks import SearchBlock, TextBlock\n",
    "from prompt_blocks.utils.recipe_util import format_recipe, get_recipe_query\n",
    "import os\n",
    "\n",
    "b = SearchBlock(\n",
    "    name='Recipes',\n",
    "    prompt=\"\",\n",
    "    debug=True,\n",
    "    os_config={\n",
    "        'host': os.environ['OS_HOST'],\n",
    "        'port': os.environ['OS_PORT'],\n",
    "        'index': os.environ['OS_RECIPE_INDEX'],\n",
    "    },\n",
    "    get_query_fn=get_recipe_query,\n",
    "    format_fn=format_recipe\n",
    ")\n",
    "text = \"えびは高たんぱく低脂質で健康にいいらしい。えびのパスタを作ってみようかな。\"\n",
    "text_block = TextBlock('UserInput',text)\n",
    "_ = b.generate(\n",
    "    prompt=\"[UserInput]からUserが欲しいレシピの条件を教えてください。条件のみを回答してください。\\n条件:\\n\",\n",
    "    query_source=text_block.generate()[0],\n",
    ")\n",
    "print('query:', b.response, sep='\\n')"
   ]
  }
 ],
 "metadata": {
  "kernelspec": {
   "display_name": ".venv",
   "language": "python",
   "name": "python3"
  },
  "language_info": {
   "codemirror_mode": {
    "name": "ipython",
    "version": 3
   },
   "file_extension": ".py",
   "mimetype": "text/x-python",
   "name": "python",
   "nbconvert_exporter": "python",
   "pygments_lexer": "ipython3",
   "version": "3.10.5"
  },
  "orig_nbformat": 4
 },
 "nbformat": 4,
 "nbformat_minor": 2
}
